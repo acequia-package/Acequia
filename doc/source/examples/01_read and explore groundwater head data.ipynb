{
 "cells": [
  {
   "cell_type": "markdown",
   "metadata": {},
   "source": [
    "### Read and explore groundwater head data"
   ]
  },
  {
   "cell_type": "markdown",
   "metadata": {},
   "source": [
    "In acequia, the GwSeries object holds groundwater head data for one piezometer. For reading data the GwSeries.from_dinogws() and GwSeries.from_json() methods are used. The object GwList holds a list of GwSeries objects and is able to read multiple series given a source directory. For managing multiple head series from one well location the GwLoc object is used.  \n",
    "\n",
    "This notebook shows how to read a dinoloket csv file into the Acequia GwSeries object and explore it's content. Also, examples of using the GwList and GwLoc objects are given."
   ]
  },
  {
   "cell_type": "code",
   "execution_count": 1,
   "metadata": {},
   "outputs": [],
   "source": [
    "import acequia as aq"
   ]
  },
  {
   "cell_type": "markdown",
   "metadata": {},
   "source": [
    "## Read groundwater head data from a DinoLoket csv file"
   ]
  },
  {
   "cell_type": "markdown",
   "metadata": {},
   "source": [
    "The main source of groundwater head data in the Netherlands is the National groundwater database managed by TNO. Data can be downloaded free of charge from www.dinoloket.nl. Data are delivered as csv files that contain measurements from one piezometer.  \n",
    "Dinoloket csv files start with a main header, followed by a block of data with properties of the piezometer over time, followed by groundwater head measurements. As the database behind Dinloket.nl contains over 80.000 files some of them are bound to contain unexpected data. Over the last few years, acequia has been applied to all Dinoloket files several times and errors in csv files are mostly handled now, but new issues are bound te arise over time. "
   ]
  },
  {
   "cell_type": "markdown",
   "metadata": {},
   "source": [
    "Data from Dinoloket csv files can be imported to the GwSeries object with the from_dinogws method. As shown by the GwSeries print() method, the groundwater head series B28A0475_2 contains 2687 measurements:"
   ]
  },
  {
   "cell_type": "code",
   "execution_count": 2,
   "metadata": {},
   "outputs": [
    {
     "name": "stdout",
     "output_type": "stream",
     "text": [
      "B28A0475_2 (n=2687)\n"
     ]
    }
   ],
   "source": [
    "fpath = \".\\\\data\\\\dinocsv\\\\B28A0475002_1.csv\"\n",
    "gw = aq.GwSeries.from_dinogws(fpath)\n",
    "print(gw)"
   ]
  },
  {
   "cell_type": "markdown",
   "metadata": {},
   "source": [
    "## Explore well tube properties"
   ]
  },
  {
   "cell_type": "markdown",
   "metadata": {},
   "source": [
    "Properties of the well tube and the measured groundwater head series can be explored with the GwSeries.locprops() and GwSeries.tubeprops() methods. All height measurements are in m NAP, the National Dutch Datum:  "
   ]
  },
  {
   "cell_type": "code",
   "execution_count": 3,
   "metadata": {},
   "outputs": [
    {
     "data": {
      "text/html": [
       "<div>\n",
       "<style scoped>\n",
       "    .dataframe tbody tr th:only-of-type {\n",
       "        vertical-align: middle;\n",
       "    }\n",
       "\n",
       "    .dataframe tbody tr th {\n",
       "        vertical-align: top;\n",
       "    }\n",
       "\n",
       "    .dataframe thead th {\n",
       "        text-align: right;\n",
       "    }\n",
       "</style>\n",
       "<table border=\"1\" class=\"dataframe\">\n",
       "  <thead>\n",
       "    <tr style=\"text-align: right;\">\n",
       "      <th></th>\n",
       "      <th>locname</th>\n",
       "      <th>filname</th>\n",
       "      <th>alias</th>\n",
       "      <th>xcr</th>\n",
       "      <th>ycr</th>\n",
       "      <th>height_datum</th>\n",
       "      <th>grid_reference</th>\n",
       "    </tr>\n",
       "  </thead>\n",
       "  <tbody>\n",
       "    <tr>\n",
       "      <th>B28A0475_2</th>\n",
       "      <td>B28A0475</td>\n",
       "      <td>2</td>\n",
       "      <td>28AP7039</td>\n",
       "      <td>220340</td>\n",
       "      <td>494130</td>\n",
       "      <td>mNAP</td>\n",
       "      <td>RD</td>\n",
       "    </tr>\n",
       "  </tbody>\n",
       "</table>\n",
       "</div>"
      ],
      "text/plain": [
       "             locname filname     alias     xcr     ycr height_datum  \\\n",
       "B28A0475_2  B28A0475       2  28AP7039  220340  494130         mNAP   \n",
       "\n",
       "           grid_reference  \n",
       "B28A0475_2             RD  "
      ]
     },
     "execution_count": 3,
     "metadata": {},
     "output_type": "execute_result"
    }
   ],
   "source": [
    "gw.locprops()"
   ]
  },
  {
   "cell_type": "code",
   "execution_count": 4,
   "metadata": {},
   "outputs": [
    {
     "data": {
      "text/html": [
       "<div>\n",
       "<style scoped>\n",
       "    .dataframe tbody tr th:only-of-type {\n",
       "        vertical-align: middle;\n",
       "    }\n",
       "\n",
       "    .dataframe tbody tr th {\n",
       "        vertical-align: top;\n",
       "    }\n",
       "\n",
       "    .dataframe thead th {\n",
       "        text-align: right;\n",
       "    }\n",
       "</style>\n",
       "<table border=\"1\" class=\"dataframe\">\n",
       "  <thead>\n",
       "    <tr style=\"text-align: right;\">\n",
       "      <th></th>\n",
       "      <th>series</th>\n",
       "      <th>startdate</th>\n",
       "      <th>mplevel</th>\n",
       "      <th>filtop</th>\n",
       "      <th>filbot</th>\n",
       "      <th>surfacedate</th>\n",
       "      <th>surfacelevel</th>\n",
       "    </tr>\n",
       "  </thead>\n",
       "  <tbody>\n",
       "    <tr>\n",
       "      <th>0</th>\n",
       "      <td>B28A0475_2</td>\n",
       "      <td>1981-01-01</td>\n",
       "      <td>5.46</td>\n",
       "      <td>-3.54</td>\n",
       "      <td>-4.54</td>\n",
       "      <td>1981-01-01</td>\n",
       "      <td>5.43</td>\n",
       "    </tr>\n",
       "    <tr>\n",
       "      <th>1</th>\n",
       "      <td>B28A0475_2</td>\n",
       "      <td>2008-03-01</td>\n",
       "      <td>5.93</td>\n",
       "      <td>-3.54</td>\n",
       "      <td>-4.54</td>\n",
       "      <td>1981-01-01</td>\n",
       "      <td>5.43</td>\n",
       "    </tr>\n",
       "  </tbody>\n",
       "</table>\n",
       "</div>"
      ],
      "text/plain": [
       "       series  startdate  mplevel  filtop  filbot surfacedate  surfacelevel\n",
       "0  B28A0475_2 1981-01-01     5.46   -3.54   -4.54  1981-01-01          5.43\n",
       "1  B28A0475_2 2008-03-01     5.93   -3.54   -4.54  1981-01-01          5.43"
      ]
     },
     "execution_count": 4,
     "metadata": {},
     "output_type": "execute_result"
    }
   ],
   "source": [
    "gw.tubeprops()"
   ]
  },
  {
   "cell_type": "markdown",
   "metadata": {},
   "source": [
    "The GwSeries.tubeprops_changes() method returns a time series of welltube changes over time. The GwSeries.plotheads() method uses tubeprops_changes() to visualise changes in groundwater regime in conjunction with changes in measurement point reference hight, which might indicate that changes in groundwater measurments are caused by a change in the well construction instead of changes in the groundwater system:"
   ]
  },
  {
   "cell_type": "code",
   "execution_count": 5,
   "metadata": {},
   "outputs": [
    {
     "data": {
      "text/plain": [
       "1981-01-01    0.00\n",
       "2008-02-29    0.00\n",
       "2008-03-01    0.47\n",
       "2014-09-15    0.47\n",
       "dtype: float64"
      ]
     },
     "execution_count": 5,
     "metadata": {},
     "output_type": "execute_result"
    }
   ],
   "source": [
    "gw.tubeprops_changes()"
   ]
  },
  {
   "cell_type": "code",
   "execution_count": 6,
   "metadata": {},
   "outputs": [
    {
     "data": {
      "image/png": "[encoded data removed]",
      "text/plain": [
       "<Figure size 576x360 with 2 Axes>"
      ]
     },
     "metadata": {},
     "output_type": "display_data"
    }
   ],
   "source": [
    "gw.plotheads(proptype='mplevel')"
   ]
  },
  {
   "cell_type": "markdown",
   "metadata": {},
   "source": [
    "## Descriptive statistics of measured head series"
   ]
  },
  {
   "cell_type": "markdown",
   "metadata": {},
   "source": [
    "Measured heads in a GwSeries object are returned as a pandas Series object with the heads() method. The parameter 'ref' determines the reference level and defaults to 'datum'. Other possible reference levels are 'surface' and 'mp' (measurement point)."
   ]
  },
  {
   "cell_type": "code",
   "execution_count": 22,
   "metadata": {},
   "outputs": [
    {
     "name": "stdout",
     "output_type": "stream",
     "text": [
      "datetime\n",
      "2015-10-29    19.69\n",
      "2015-10-30    19.68\n",
      "2015-10-31    19.67\n",
      "2015-11-01    19.66\n",
      "2015-11-02    19.66\n",
      "              ...  \n",
      "2019-08-24    19.04\n",
      "2019-08-25    19.02\n",
      "2019-08-26    19.01\n",
      "2019-08-27    19.01\n",
      "2019-08-28    19.00\n",
      "Name: B29A0849_4, Length: 1400, dtype: float64\n"
     ]
    }
   ],
   "source": [
    "sr = gw.heads(ref='datum')\n",
    "print(sr)"
   ]
  },
  {
   "cell_type": "markdown",
   "metadata": {},
   "source": [
    "Basic decriptive statistics of the head series are shown by the GwSeries.timestats() method:"
   ]
  },
  {
   "cell_type": "code",
   "execution_count": 7,
   "metadata": {},
   "outputs": [
    {
     "data": {
      "text/html": [
       "<div>\n",
       "<style scoped>\n",
       "    .dataframe tbody tr th:only-of-type {\n",
       "        vertical-align: middle;\n",
       "    }\n",
       "\n",
       "    .dataframe tbody tr th {\n",
       "        vertical-align: top;\n",
       "    }\n",
       "\n",
       "    .dataframe thead th {\n",
       "        text-align: right;\n",
       "    }\n",
       "</style>\n",
       "<table border=\"1\" class=\"dataframe\">\n",
       "  <thead>\n",
       "    <tr style=\"text-align: right;\">\n",
       "      <th></th>\n",
       "      <th>firstdate</th>\n",
       "      <th>lastdate</th>\n",
       "      <th>minyear</th>\n",
       "      <th>maxyear</th>\n",
       "      <th>yearspan</th>\n",
       "      <th>nyears</th>\n",
       "      <th>mean</th>\n",
       "      <th>median</th>\n",
       "      <th>q05</th>\n",
       "      <th>q95</th>\n",
       "      <th>dq0595</th>\n",
       "    </tr>\n",
       "  </thead>\n",
       "  <tbody>\n",
       "    <tr>\n",
       "      <th>B28A0475_2</th>\n",
       "      <td>1981-06-20</td>\n",
       "      <td>2014-09-15</td>\n",
       "      <td>1981</td>\n",
       "      <td>2014</td>\n",
       "      <td>34</td>\n",
       "      <td>30</td>\n",
       "      <td>5.04</td>\n",
       "      <td>5.03</td>\n",
       "      <td>4.78</td>\n",
       "      <td>5.33</td>\n",
       "      <td>0.55</td>\n",
       "    </tr>\n",
       "  </tbody>\n",
       "</table>\n",
       "</div>"
      ],
      "text/plain": [
       "             firstdate    lastdate  minyear  maxyear  yearspan  nyears  mean  \\\n",
       "B28A0475_2  1981-06-20  2014-09-15     1981     2014        34      30  5.04   \n",
       "\n",
       "            median   q05   q95  dq0595  \n",
       "B28A0475_2    5.03  4.78  5.33    0.55  "
      ]
     },
     "execution_count": 7,
     "metadata": {},
     "output_type": "execute_result"
    }
   ],
   "source": [
    "gw.timestats()"
   ]
  },
  {
   "cell_type": "markdown",
   "metadata": {},
   "source": [
    "In the Netherlands a special set of desciptive statistics is used, known as the \"GxG\". The GxG consists of several measures: mean highest groundwater level (GHG), mean spring level (GVG) and mean lowest groundwater level (GLG). Over the last 50 years several different definitions have been used, some of which are implemented in Acequia. For technical details, users are referred to the docstrings in the Acequia Gxg object methods."
   ]
  },
  {
   "cell_type": "code",
   "execution_count": 8,
   "metadata": {},
   "outputs": [
    {
     "data": {
      "text/html": [
       "<div>\n",
       "<style scoped>\n",
       "    .dataframe tbody tr th:only-of-type {\n",
       "        vertical-align: middle;\n",
       "    }\n",
       "\n",
       "    .dataframe tbody tr th {\n",
       "        vertical-align: top;\n",
       "    }\n",
       "\n",
       "    .dataframe thead th {\n",
       "        text-align: right;\n",
       "    }\n",
       "</style>\n",
       "<table border=\"1\" class=\"dataframe\">\n",
       "  <thead>\n",
       "    <tr style=\"text-align: right;\">\n",
       "      <th></th>\n",
       "      <th>ghg</th>\n",
       "      <th>glg</th>\n",
       "      <th>ghg3w</th>\n",
       "      <th>glg3s</th>\n",
       "      <th>gvg3</th>\n",
       "      <th>gvg1</th>\n",
       "      <th>n1428</th>\n",
       "      <th>ghg3nyr</th>\n",
       "      <th>glg3nyr</th>\n",
       "      <th>ghg3wnyr</th>\n",
       "      <th>glg3snyr</th>\n",
       "      <th>gvg3nyr</th>\n",
       "      <th>gvg1nyr</th>\n",
       "      <th>n1428nyr</th>\n",
       "      <th>gt</th>\n",
       "      <th>gtref</th>\n",
       "    </tr>\n",
       "  </thead>\n",
       "  <tbody>\n",
       "    <tr>\n",
       "      <th>B28A0475_2</th>\n",
       "      <td>0.07</td>\n",
       "      <td>0.63</td>\n",
       "      <td>0.1</td>\n",
       "      <td>0.6</td>\n",
       "      <td>0.28</td>\n",
       "      <td>0.26</td>\n",
       "      <td>15.23</td>\n",
       "      <td>17</td>\n",
       "      <td>17</td>\n",
       "      <td>17</td>\n",
       "      <td>17</td>\n",
       "      <td>21</td>\n",
       "      <td>28</td>\n",
       "      <td>35</td>\n",
       "      <td>II</td>\n",
       "      <td>surface</td>\n",
       "    </tr>\n",
       "  </tbody>\n",
       "</table>\n",
       "</div>"
      ],
      "text/plain": [
       "             ghg   glg  ghg3w  glg3s  gvg3  gvg1  n1428  ghg3nyr  glg3nyr  \\\n",
       "B28A0475_2  0.07  0.63    0.1    0.6  0.28  0.26  15.23       17       17   \n",
       "\n",
       "            ghg3wnyr  glg3snyr  gvg3nyr  gvg1nyr  n1428nyr  gt    gtref  \n",
       "B28A0475_2        17        17       21       28        35  II  surface  "
      ]
     },
     "execution_count": 8,
     "metadata": {},
     "output_type": "execute_result"
    }
   ],
   "source": [
    "gw.gxg(ref='surface')"
   ]
  },
  {
   "cell_type": "markdown",
   "metadata": {},
   "source": [
    "The GwSeries.describe() method returns a pandas DataFrame with general characteristics of the head series. This method is useful to generate a pandas dataframe with timeseries characteristics of several timeseries that can be imported in a Geographical Information System like QGIS or ArcMAP. (To do this, apply the describe() method over a list of GwSeries objects and concatenate all dataframes with pd.concat)."
   ]
  },
  {
   "cell_type": "code",
   "execution_count": 9,
   "metadata": {},
   "outputs": [
    {
     "data": {
      "text/html": [
       "<div>\n",
       "<style scoped>\n",
       "    .dataframe tbody tr th:only-of-type {\n",
       "        vertical-align: middle;\n",
       "    }\n",
       "\n",
       "    .dataframe tbody tr th {\n",
       "        vertical-align: top;\n",
       "    }\n",
       "\n",
       "    .dataframe thead th {\n",
       "        text-align: right;\n",
       "    }\n",
       "</style>\n",
       "<table border=\"1\" class=\"dataframe\">\n",
       "  <thead>\n",
       "    <tr style=\"text-align: right;\">\n",
       "      <th></th>\n",
       "      <th>locname</th>\n",
       "      <th>filname</th>\n",
       "      <th>alias</th>\n",
       "      <th>xcr</th>\n",
       "      <th>ycr</th>\n",
       "      <th>mplevel</th>\n",
       "      <th>filbot</th>\n",
       "      <th>surfacelevel</th>\n",
       "      <th>firstdate</th>\n",
       "      <th>lastdate</th>\n",
       "      <th>minyear</th>\n",
       "      <th>maxyear</th>\n",
       "      <th>yearspan</th>\n",
       "      <th>nyears</th>\n",
       "      <th>mean</th>\n",
       "      <th>median</th>\n",
       "      <th>q05</th>\n",
       "      <th>q95</th>\n",
       "      <th>dq0595</th>\n",
       "    </tr>\n",
       "  </thead>\n",
       "  <tbody>\n",
       "    <tr>\n",
       "      <th>B28A0475_2</th>\n",
       "      <td>B28A0475</td>\n",
       "      <td>2</td>\n",
       "      <td>28AP7039</td>\n",
       "      <td>220340</td>\n",
       "      <td>494130</td>\n",
       "      <td>5.93</td>\n",
       "      <td>-4.54</td>\n",
       "      <td>5.43</td>\n",
       "      <td>1981-06-20</td>\n",
       "      <td>2014-09-15</td>\n",
       "      <td>1981</td>\n",
       "      <td>2014</td>\n",
       "      <td>34</td>\n",
       "      <td>30</td>\n",
       "      <td>5.04</td>\n",
       "      <td>5.03</td>\n",
       "      <td>4.78</td>\n",
       "      <td>5.33</td>\n",
       "      <td>0.55</td>\n",
       "    </tr>\n",
       "  </tbody>\n",
       "</table>\n",
       "</div>"
      ],
      "text/plain": [
       "             locname filname     alias     xcr     ycr  mplevel  filbot  \\\n",
       "B28A0475_2  B28A0475       2  28AP7039  220340  494130     5.93   -4.54   \n",
       "\n",
       "            surfacelevel   firstdate    lastdate  minyear  maxyear  yearspan  \\\n",
       "B28A0475_2          5.43  1981-06-20  2014-09-15     1981     2014        34   \n",
       "\n",
       "            nyears  mean  median   q05   q95  dq0595  \n",
       "B28A0475_2      30  5.04    5.03  4.78  5.33    0.55  "
      ]
     },
     "execution_count": 9,
     "metadata": {},
     "output_type": "execute_result"
    }
   ],
   "source": [
    "gw.describe()"
   ]
  },
  {
   "cell_type": "markdown",
   "metadata": {},
   "source": [
    "Measured heads from GwSeries objects can be saved to simple csv files with the method to_csv(). For archiving GwSeries data from different sources in one json file format the to_json() method is used. These data can be imported in a GwSeries with the from_json() method."
   ]
  },
  {
   "cell_type": "markdown",
   "metadata": {},
   "source": [
    "## Manage lists of groundwater head series "
   ]
  },
  {
   "cell_type": "markdown",
   "metadata": {},
   "source": [
    "The GwList object reads multiple groundwater head source files from a directory. After a GwList object is succesfully created, a list of sourcefiles is given with the method GwList.filetable()."
   ]
  },
  {
   "cell_type": "code",
   "execution_count": 10,
   "metadata": {},
   "outputs": [],
   "source": [
    "gwlist = aq.GwList(srcdir='.\\\\data\\\\dinocsv\\\\', loclist=None)"
   ]
  },
  {
   "cell_type": "code",
   "execution_count": 11,
   "metadata": {},
   "outputs": [
    {
     "data": {
      "text/html": [
       "<div>\n",
       "<style scoped>\n",
       "    .dataframe tbody tr th:only-of-type {\n",
       "        vertical-align: middle;\n",
       "    }\n",
       "\n",
       "    .dataframe tbody tr th {\n",
       "        vertical-align: top;\n",
       "    }\n",
       "\n",
       "    .dataframe thead th {\n",
       "        text-align: right;\n",
       "    }\n",
       "</style>\n",
       "<table border=\"1\" class=\"dataframe\">\n",
       "  <thead>\n",
       "    <tr style=\"text-align: right;\">\n",
       "      <th></th>\n",
       "      <th>file</th>\n",
       "      <th>loc</th>\n",
       "      <th>fil</th>\n",
       "      <th>kaartblad</th>\n",
       "      <th>series</th>\n",
       "      <th>path</th>\n",
       "    </tr>\n",
       "  </thead>\n",
       "  <tbody>\n",
       "    <tr>\n",
       "      <th>0</th>\n",
       "      <td>B28A0475002_1.csv</td>\n",
       "      <td>B28A0475</td>\n",
       "      <td>2</td>\n",
       "      <td>28A</td>\n",
       "      <td>B28A0475_2</td>\n",
       "      <td>.\\data\\dinocsv\\B28A0475002_1.csv</td>\n",
       "    </tr>\n",
       "    <tr>\n",
       "      <th>1</th>\n",
       "      <td>B28B1389001_1.csv</td>\n",
       "      <td>B28B1389</td>\n",
       "      <td>1</td>\n",
       "      <td>28B</td>\n",
       "      <td>B28B1389_1</td>\n",
       "      <td>.\\data\\dinocsv\\B28B1389001_1.csv</td>\n",
       "    </tr>\n",
       "    <tr>\n",
       "      <th>2</th>\n",
       "      <td>B28B1389002_1.csv</td>\n",
       "      <td>B28B1389</td>\n",
       "      <td>2</td>\n",
       "      <td>28B</td>\n",
       "      <td>B28B1389_2</td>\n",
       "      <td>.\\data\\dinocsv\\B28B1389002_1.csv</td>\n",
       "    </tr>\n",
       "    <tr>\n",
       "      <th>3</th>\n",
       "      <td>B28B1389003_1.csv</td>\n",
       "      <td>B28B1389</td>\n",
       "      <td>3</td>\n",
       "      <td>28B</td>\n",
       "      <td>B28B1389_3</td>\n",
       "      <td>.\\data\\dinocsv\\B28B1389003_1.csv</td>\n",
       "    </tr>\n",
       "    <tr>\n",
       "      <th>4</th>\n",
       "      <td>B28F1490001_1.csv</td>\n",
       "      <td>B28F1490</td>\n",
       "      <td>1</td>\n",
       "      <td>28F</td>\n",
       "      <td>B28F1490_1</td>\n",
       "      <td>.\\data\\dinocsv\\B28F1490001_1.csv</td>\n",
       "    </tr>\n",
       "    <tr>\n",
       "      <th>5</th>\n",
       "      <td>B28F1490002_1.csv</td>\n",
       "      <td>B28F1490</td>\n",
       "      <td>2</td>\n",
       "      <td>28F</td>\n",
       "      <td>B28F1490_2</td>\n",
       "      <td>.\\data\\dinocsv\\B28F1490002_1.csv</td>\n",
       "    </tr>\n",
       "    <tr>\n",
       "      <th>6</th>\n",
       "      <td>B28F1490003_1.csv</td>\n",
       "      <td>B28F1490</td>\n",
       "      <td>3</td>\n",
       "      <td>28F</td>\n",
       "      <td>B28F1490_3</td>\n",
       "      <td>.\\data\\dinocsv\\B28F1490003_1.csv</td>\n",
       "    </tr>\n",
       "    <tr>\n",
       "      <th>7</th>\n",
       "      <td>B28F1490004_1.csv</td>\n",
       "      <td>B28F1490</td>\n",
       "      <td>4</td>\n",
       "      <td>28F</td>\n",
       "      <td>B28F1490_4</td>\n",
       "      <td>.\\data\\dinocsv\\B28F1490004_1.csv</td>\n",
       "    </tr>\n",
       "    <tr>\n",
       "      <th>8</th>\n",
       "      <td>B28H1883001_1.csv</td>\n",
       "      <td>B28H1883</td>\n",
       "      <td>1</td>\n",
       "      <td>28H</td>\n",
       "      <td>B28H1883_1</td>\n",
       "      <td>.\\data\\dinocsv\\B28H1883001_1.csv</td>\n",
       "    </tr>\n",
       "    <tr>\n",
       "      <th>9</th>\n",
       "      <td>B28H1883002_1.csv</td>\n",
       "      <td>B28H1883</td>\n",
       "      <td>2</td>\n",
       "      <td>28H</td>\n",
       "      <td>B28H1883_2</td>\n",
       "      <td>.\\data\\dinocsv\\B28H1883002_1.csv</td>\n",
       "    </tr>\n",
       "    <tr>\n",
       "      <th>10</th>\n",
       "      <td>B28H1883003_1.csv</td>\n",
       "      <td>B28H1883</td>\n",
       "      <td>3</td>\n",
       "      <td>28H</td>\n",
       "      <td>B28H1883_3</td>\n",
       "      <td>.\\data\\dinocsv\\B28H1883003_1.csv</td>\n",
       "    </tr>\n",
       "    <tr>\n",
       "      <th>11</th>\n",
       "      <td>B28H1883004_1.csv</td>\n",
       "      <td>B28H1883</td>\n",
       "      <td>4</td>\n",
       "      <td>28H</td>\n",
       "      <td>B28H1883_4</td>\n",
       "      <td>.\\data\\dinocsv\\B28H1883004_1.csv</td>\n",
       "    </tr>\n",
       "    <tr>\n",
       "      <th>12</th>\n",
       "      <td>B29A0848001_1.csv</td>\n",
       "      <td>B29A0848</td>\n",
       "      <td>1</td>\n",
       "      <td>29A</td>\n",
       "      <td>B29A0848_1</td>\n",
       "      <td>.\\data\\dinocsv\\B29A0848001_1.csv</td>\n",
       "    </tr>\n",
       "    <tr>\n",
       "      <th>13</th>\n",
       "      <td>B29A0848002_1.csv</td>\n",
       "      <td>B29A0848</td>\n",
       "      <td>2</td>\n",
       "      <td>29A</td>\n",
       "      <td>B29A0848_2</td>\n",
       "      <td>.\\data\\dinocsv\\B29A0848002_1.csv</td>\n",
       "    </tr>\n",
       "    <tr>\n",
       "      <th>14</th>\n",
       "      <td>B29A0848003_1.csv</td>\n",
       "      <td>B29A0848</td>\n",
       "      <td>3</td>\n",
       "      <td>29A</td>\n",
       "      <td>B29A0848_3</td>\n",
       "      <td>.\\data\\dinocsv\\B29A0848003_1.csv</td>\n",
       "    </tr>\n",
       "    <tr>\n",
       "      <th>15</th>\n",
       "      <td>B29A0849001_1.csv</td>\n",
       "      <td>B29A0849</td>\n",
       "      <td>1</td>\n",
       "      <td>29A</td>\n",
       "      <td>B29A0849_1</td>\n",
       "      <td>.\\data\\dinocsv\\B29A0849001_1.csv</td>\n",
       "    </tr>\n",
       "    <tr>\n",
       "      <th>16</th>\n",
       "      <td>B29A0849002_1.csv</td>\n",
       "      <td>B29A0849</td>\n",
       "      <td>2</td>\n",
       "      <td>29A</td>\n",
       "      <td>B29A0849_2</td>\n",
       "      <td>.\\data\\dinocsv\\B29A0849002_1.csv</td>\n",
       "    </tr>\n",
       "    <tr>\n",
       "      <th>17</th>\n",
       "      <td>B29A0849003_1.csv</td>\n",
       "      <td>B29A0849</td>\n",
       "      <td>3</td>\n",
       "      <td>29A</td>\n",
       "      <td>B29A0849_3</td>\n",
       "      <td>.\\data\\dinocsv\\B29A0849003_1.csv</td>\n",
       "    </tr>\n",
       "    <tr>\n",
       "      <th>18</th>\n",
       "      <td>B29A0849004_1.csv</td>\n",
       "      <td>B29A0849</td>\n",
       "      <td>4</td>\n",
       "      <td>29A</td>\n",
       "      <td>B29A0849_4</td>\n",
       "      <td>.\\data\\dinocsv\\B29A0849004_1.csv</td>\n",
       "    </tr>\n",
       "  </tbody>\n",
       "</table>\n",
       "</div>"
      ],
      "text/plain": [
       "                 file       loc fil kaartblad      series  \\\n",
       "0   B28A0475002_1.csv  B28A0475   2       28A  B28A0475_2   \n",
       "1   B28B1389001_1.csv  B28B1389   1       28B  B28B1389_1   \n",
       "2   B28B1389002_1.csv  B28B1389   2       28B  B28B1389_2   \n",
       "3   B28B1389003_1.csv  B28B1389   3       28B  B28B1389_3   \n",
       "4   B28F1490001_1.csv  B28F1490   1       28F  B28F1490_1   \n",
       "5   B28F1490002_1.csv  B28F1490   2       28F  B28F1490_2   \n",
       "6   B28F1490003_1.csv  B28F1490   3       28F  B28F1490_3   \n",
       "7   B28F1490004_1.csv  B28F1490   4       28F  B28F1490_4   \n",
       "8   B28H1883001_1.csv  B28H1883   1       28H  B28H1883_1   \n",
       "9   B28H1883002_1.csv  B28H1883   2       28H  B28H1883_2   \n",
       "10  B28H1883003_1.csv  B28H1883   3       28H  B28H1883_3   \n",
       "11  B28H1883004_1.csv  B28H1883   4       28H  B28H1883_4   \n",
       "12  B29A0848001_1.csv  B29A0848   1       29A  B29A0848_1   \n",
       "13  B29A0848002_1.csv  B29A0848   2       29A  B29A0848_2   \n",
       "14  B29A0848003_1.csv  B29A0848   3       29A  B29A0848_3   \n",
       "15  B29A0849001_1.csv  B29A0849   1       29A  B29A0849_1   \n",
       "16  B29A0849002_1.csv  B29A0849   2       29A  B29A0849_2   \n",
       "17  B29A0849003_1.csv  B29A0849   3       29A  B29A0849_3   \n",
       "18  B29A0849004_1.csv  B29A0849   4       29A  B29A0849_4   \n",
       "\n",
       "                                path  \n",
       "0   .\\data\\dinocsv\\B28A0475002_1.csv  \n",
       "1   .\\data\\dinocsv\\B28B1389001_1.csv  \n",
       "2   .\\data\\dinocsv\\B28B1389002_1.csv  \n",
       "3   .\\data\\dinocsv\\B28B1389003_1.csv  \n",
       "4   .\\data\\dinocsv\\B28F1490001_1.csv  \n",
       "5   .\\data\\dinocsv\\B28F1490002_1.csv  \n",
       "6   .\\data\\dinocsv\\B28F1490003_1.csv  \n",
       "7   .\\data\\dinocsv\\B28F1490004_1.csv  \n",
       "8   .\\data\\dinocsv\\B28H1883001_1.csv  \n",
       "9   .\\data\\dinocsv\\B28H1883002_1.csv  \n",
       "10  .\\data\\dinocsv\\B28H1883003_1.csv  \n",
       "11  .\\data\\dinocsv\\B28H1883004_1.csv  \n",
       "12  .\\data\\dinocsv\\B29A0848001_1.csv  \n",
       "13  .\\data\\dinocsv\\B29A0848002_1.csv  \n",
       "14  .\\data\\dinocsv\\B29A0848003_1.csv  \n",
       "15  .\\data\\dinocsv\\B29A0849001_1.csv  \n",
       "16  .\\data\\dinocsv\\B29A0849002_1.csv  \n",
       "17  .\\data\\dinocsv\\B29A0849003_1.csv  \n",
       "18  .\\data\\dinocsv\\B29A0849004_1.csv  "
      ]
     },
     "execution_count": 11,
     "metadata": {},
     "output_type": "execute_result"
    }
   ],
   "source": [
    "gwlist.filetable()"
   ]
  },
  {
   "cell_type": "markdown",
   "metadata": {},
   "source": [
    "The GwSeries object has an itermethod that enables iterating over all available GwSeries object and processing them one by one:"
   ]
  },
  {
   "cell_type": "code",
   "execution_count": 12,
   "metadata": {},
   "outputs": [
    {
     "name": "stdout",
     "output_type": "stream",
     "text": [
      "B28A0475_2 (n=2687)\n",
      "B28B1389_1 (n=2515)\n",
      "B28B1389_2 (n=2515)\n",
      "B28B1389_3 (n=2515)\n",
      "B28F1490_1 (n=1414)\n",
      "B28F1490_2 (n=1414)\n",
      "B28F1490_3 (n=1414)\n",
      "B28F1490_4 (n=1414)\n",
      "B28H1883_1 (n=1420)\n",
      "B28H1883_2 (n=1420)\n",
      "B28H1883_3 (n=1421)\n",
      "B28H1883_4 (n=1420)\n",
      "B29A0848_1 (n=1400)\n",
      "B29A0848_2 (n=1400)\n",
      "B29A0848_3 (n=1400)\n",
      "B29A0849_1 (n=1400)\n",
      "B29A0849_2 (n=1400)\n",
      "B29A0849_3 (n=1400)\n",
      "B29A0849_4 (n=1400)\n"
     ]
    }
   ],
   "source": [
    "for i,gw in enumerate(gwlist):\n",
    "    print(gw)"
   ]
  },
  {
   "cell_type": "markdown",
   "metadata": {},
   "source": [
    "The GwLocs object maintains a list of groundwater head series and groups them by well location:"
   ]
  },
  {
   "cell_type": "code",
   "execution_count": 17,
   "metadata": {},
   "outputs": [
    {
     "name": "stdout",
     "output_type": "stream",
     "text": [
      "GwLocs(nlocs=6)\n"
     ]
    }
   ],
   "source": [
    "gwlocs = aq.GwLocs('.\\\\data\\\\dinocsv\\\\')\n",
    "print(gwlocs)"
   ]
  },
  {
   "cell_type": "markdown",
   "metadata": {},
   "source": [
    "The GwLocs object has an itermethod that returns a list of GwSeries object that belong to one well location for each  iteration:"
   ]
  },
  {
   "cell_type": "code",
   "execution_count": 16,
   "metadata": {},
   "outputs": [
    {
     "name": "stdout",
     "output_type": "stream",
     "text": [
      "[B28A0475_2 (n=2687)]\n",
      "[B28B1389_1 (n=2515), B28B1389_2 (n=2515), B28B1389_3 (n=2515)]\n",
      "[B28F1490_1 (n=1414), B28F1490_2 (n=1414), B28F1490_3 (n=1414), B28F1490_4 (n=1414)]\n",
      "[B28H1883_1 (n=1420), B28H1883_2 (n=1420), B28H1883_3 (n=1421), B28H1883_4 (n=1420)]\n",
      "[B29A0848_1 (n=1400), B29A0848_2 (n=1400), B29A0848_3 (n=1400)]\n",
      "[B29A0849_1 (n=1400), B29A0849_2 (n=1400), B29A0849_3 (n=1400), B29A0849_4 (n=1400)]\n"
     ]
    }
   ],
   "source": [
    "for loc in aq.GwLocs('.\\\\data\\\\dinocsv\\\\'):\n",
    "        print(loc)"
   ]
  },
  {
   "cell_type": "markdown",
   "metadata": {},
   "source": [
    "The GwSeries object, GwList object and GwLocs object are the main objects for reading and managing groundwater head data with acequia. For most methods in acequia GwSeries object can be used as input as well as pandas timeseries objects containing groundwater head data."
   ]
  },
  {
   "cell_type": "code",
   "execution_count": null,
   "metadata": {},
   "outputs": [],
   "source": []
  }
 ],
 "metadata": {
  "kernelspec": {
   "display_name": "Python 3",
   "language": "python",
   "name": "python3"
  },
  "language_info": {
   "codemirror_mode": {
    "name": "ipython",
    "version": 3
   },
   "file_extension": ".py",
   "mimetype": "text/x-python",
   "name": "python",
   "nbconvert_exporter": "python",
   "pygments_lexer": "ipython3",
   "version": "3.7.9"
  }
 },
 "nbformat": 4,
 "nbformat_minor": 4
}
